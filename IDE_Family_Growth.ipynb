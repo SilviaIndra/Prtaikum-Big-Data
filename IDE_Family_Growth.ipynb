{
  "nbformat": 4,
  "nbformat_minor": 0,
  "metadata": {
    "colab": {
      "name": "IDE Family Growth.ipynb",
      "provenance": [],
      "collapsed_sections": []
    },
    "kernelspec": {
      "name": "python3",
      "display_name": "Python 3"
    },
    "language_info": {
      "name": "python"
    }
  },
  "cells": [
    {
      "cell_type": "markdown",
      "source": [
        "# SILVIA INDRA MAULINA\n",
        "# 20.11.3332\n",
        "# 20-S1IF-01"
      ],
      "metadata": {
        "id": "Uz2Srbuv1MQs"
      }
    },
    {
      "cell_type": "code",
      "source": [
        "# import library yang diperlukan \n",
        "import pandas as pd\n",
        "import numpy as np\n",
        "import matplotlib.pyplot as plt"
      ],
      "metadata": {
        "id": "Oh3Z03mq1X66"
      },
      "execution_count": null,
      "outputs": []
    },
    {
      "cell_type": "code",
      "source": [
        "# membaca dataset\n",
        "nsfg = pd.read_hdf('nsfg.hdf5' , 'nsfg')"
      ],
      "metadata": {
        "id": "Zoma1Ea862o6"
      },
      "execution_count": null,
      "outputs": []
    },
    {
      "cell_type": "code",
      "source": [
        "# melihat ukuran dataset\n",
        "nsfg.shape"
      ],
      "metadata": {
        "colab": {
          "base_uri": "https://localhost:8080/"
        },
        "id": "FCi7nlGB7mKB",
        "outputId": "961a73fa-4277-4c85-b7c9-f9569cb205ba"
      },
      "execution_count": null,
      "outputs": [
        {
          "output_type": "execute_result",
          "data": {
            "text/plain": [
              "(9358, 10)"
            ]
          },
          "metadata": {},
          "execution_count": 3
        }
      ]
    },
    {
      "cell_type": "code",
      "source": [
        "# melihat nama kolom dataset\n",
        "nsfg.columns"
      ],
      "metadata": {
        "colab": {
          "base_uri": "https://localhost:8080/"
        },
        "id": "mKkstnfA7mRI",
        "outputId": "2f949252-6175-4075-ac9e-534463ee5cc5"
      },
      "execution_count": null,
      "outputs": [
        {
          "output_type": "execute_result",
          "data": {
            "text/plain": [
              "Index(['caseid', 'outcome', 'birthwgt_lb1', 'birthwgt_oz1', 'prglngth',\n",
              "       'nbrnaliv', 'agecon', 'agepreg', 'hpagelb', 'wgt2013_2015'],\n",
              "      dtype='object')"
            ]
          },
          "metadata": {},
          "execution_count": 4
        }
      ]
    },
    {
      "cell_type": "code",
      "source": [
        "# melihat 5 kata data teratas\n",
        "nsfg.head()"
      ],
      "metadata": {
        "colab": {
          "base_uri": "https://localhost:8080/",
          "height": 206
        },
        "id": "K1Udzd8T8ZVn",
        "outputId": "5058add0-facc-49fb-97c5-c44561e91dd1"
      },
      "execution_count": null,
      "outputs": [
        {
          "output_type": "execute_result",
          "data": {
            "text/plain": [
              "   caseid  outcome  birthwgt_lb1  birthwgt_oz1  prglngth  nbrnaliv  agecon  \\\n",
              "0   60418        1           5.0           4.0        40       1.0    2000   \n",
              "1   60418        1           4.0          12.0        36       1.0    2291   \n",
              "2   60418        1           5.0           4.0        36       1.0    3241   \n",
              "3   60419        6           NaN           NaN        33       NaN    3650   \n",
              "4   60420        1           8.0          13.0        41       1.0    2191   \n",
              "\n",
              "   agepreg  hpagelb  wgt2013_2015  \n",
              "0   2075.0     22.0   3554.964843  \n",
              "1   2358.0     25.0   3554.964843  \n",
              "2   3308.0     52.0   3554.964843  \n",
              "3      NaN      NaN   2484.535358  \n",
              "4   2266.0     24.0   2903.782914  "
            ],
            "text/html": [
              "\n",
              "  <div id=\"df-ee6dfee9-98e9-49fc-a508-bf3577b47943\">\n",
              "    <div class=\"colab-df-container\">\n",
              "      <div>\n",
              "<style scoped>\n",
              "    .dataframe tbody tr th:only-of-type {\n",
              "        vertical-align: middle;\n",
              "    }\n",
              "\n",
              "    .dataframe tbody tr th {\n",
              "        vertical-align: top;\n",
              "    }\n",
              "\n",
              "    .dataframe thead th {\n",
              "        text-align: right;\n",
              "    }\n",
              "</style>\n",
              "<table border=\"1\" class=\"dataframe\">\n",
              "  <thead>\n",
              "    <tr style=\"text-align: right;\">\n",
              "      <th></th>\n",
              "      <th>caseid</th>\n",
              "      <th>outcome</th>\n",
              "      <th>birthwgt_lb1</th>\n",
              "      <th>birthwgt_oz1</th>\n",
              "      <th>prglngth</th>\n",
              "      <th>nbrnaliv</th>\n",
              "      <th>agecon</th>\n",
              "      <th>agepreg</th>\n",
              "      <th>hpagelb</th>\n",
              "      <th>wgt2013_2015</th>\n",
              "    </tr>\n",
              "  </thead>\n",
              "  <tbody>\n",
              "    <tr>\n",
              "      <th>0</th>\n",
              "      <td>60418</td>\n",
              "      <td>1</td>\n",
              "      <td>5.0</td>\n",
              "      <td>4.0</td>\n",
              "      <td>40</td>\n",
              "      <td>1.0</td>\n",
              "      <td>2000</td>\n",
              "      <td>2075.0</td>\n",
              "      <td>22.0</td>\n",
              "      <td>3554.964843</td>\n",
              "    </tr>\n",
              "    <tr>\n",
              "      <th>1</th>\n",
              "      <td>60418</td>\n",
              "      <td>1</td>\n",
              "      <td>4.0</td>\n",
              "      <td>12.0</td>\n",
              "      <td>36</td>\n",
              "      <td>1.0</td>\n",
              "      <td>2291</td>\n",
              "      <td>2358.0</td>\n",
              "      <td>25.0</td>\n",
              "      <td>3554.964843</td>\n",
              "    </tr>\n",
              "    <tr>\n",
              "      <th>2</th>\n",
              "      <td>60418</td>\n",
              "      <td>1</td>\n",
              "      <td>5.0</td>\n",
              "      <td>4.0</td>\n",
              "      <td>36</td>\n",
              "      <td>1.0</td>\n",
              "      <td>3241</td>\n",
              "      <td>3308.0</td>\n",
              "      <td>52.0</td>\n",
              "      <td>3554.964843</td>\n",
              "    </tr>\n",
              "    <tr>\n",
              "      <th>3</th>\n",
              "      <td>60419</td>\n",
              "      <td>6</td>\n",
              "      <td>NaN</td>\n",
              "      <td>NaN</td>\n",
              "      <td>33</td>\n",
              "      <td>NaN</td>\n",
              "      <td>3650</td>\n",
              "      <td>NaN</td>\n",
              "      <td>NaN</td>\n",
              "      <td>2484.535358</td>\n",
              "    </tr>\n",
              "    <tr>\n",
              "      <th>4</th>\n",
              "      <td>60420</td>\n",
              "      <td>1</td>\n",
              "      <td>8.0</td>\n",
              "      <td>13.0</td>\n",
              "      <td>41</td>\n",
              "      <td>1.0</td>\n",
              "      <td>2191</td>\n",
              "      <td>2266.0</td>\n",
              "      <td>24.0</td>\n",
              "      <td>2903.782914</td>\n",
              "    </tr>\n",
              "  </tbody>\n",
              "</table>\n",
              "</div>\n",
              "      <button class=\"colab-df-convert\" onclick=\"convertToInteractive('df-ee6dfee9-98e9-49fc-a508-bf3577b47943')\"\n",
              "              title=\"Convert this dataframe to an interactive table.\"\n",
              "              style=\"display:none;\">\n",
              "        \n",
              "  <svg xmlns=\"http://www.w3.org/2000/svg\" height=\"24px\"viewBox=\"0 0 24 24\"\n",
              "       width=\"24px\">\n",
              "    <path d=\"M0 0h24v24H0V0z\" fill=\"none\"/>\n",
              "    <path d=\"M18.56 5.44l.94 2.06.94-2.06 2.06-.94-2.06-.94-.94-2.06-.94 2.06-2.06.94zm-11 1L8.5 8.5l.94-2.06 2.06-.94-2.06-.94L8.5 2.5l-.94 2.06-2.06.94zm10 10l.94 2.06.94-2.06 2.06-.94-2.06-.94-.94-2.06-.94 2.06-2.06.94z\"/><path d=\"M17.41 7.96l-1.37-1.37c-.4-.4-.92-.59-1.43-.59-.52 0-1.04.2-1.43.59L10.3 9.45l-7.72 7.72c-.78.78-.78 2.05 0 2.83L4 21.41c.39.39.9.59 1.41.59.51 0 1.02-.2 1.41-.59l7.78-7.78 2.81-2.81c.8-.78.8-2.07 0-2.86zM5.41 20L4 18.59l7.72-7.72 1.47 1.35L5.41 20z\"/>\n",
              "  </svg>\n",
              "      </button>\n",
              "      \n",
              "  <style>\n",
              "    .colab-df-container {\n",
              "      display:flex;\n",
              "      flex-wrap:wrap;\n",
              "      gap: 12px;\n",
              "    }\n",
              "\n",
              "    .colab-df-convert {\n",
              "      background-color: #E8F0FE;\n",
              "      border: none;\n",
              "      border-radius: 50%;\n",
              "      cursor: pointer;\n",
              "      display: none;\n",
              "      fill: #1967D2;\n",
              "      height: 32px;\n",
              "      padding: 0 0 0 0;\n",
              "      width: 32px;\n",
              "    }\n",
              "\n",
              "    .colab-df-convert:hover {\n",
              "      background-color: #E2EBFA;\n",
              "      box-shadow: 0px 1px 2px rgba(60, 64, 67, 0.3), 0px 1px 3px 1px rgba(60, 64, 67, 0.15);\n",
              "      fill: #174EA6;\n",
              "    }\n",
              "\n",
              "    [theme=dark] .colab-df-convert {\n",
              "      background-color: #3B4455;\n",
              "      fill: #D2E3FC;\n",
              "    }\n",
              "\n",
              "    [theme=dark] .colab-df-convert:hover {\n",
              "      background-color: #434B5C;\n",
              "      box-shadow: 0px 1px 3px 1px rgba(0, 0, 0, 0.15);\n",
              "      filter: drop-shadow(0px 1px 2px rgba(0, 0, 0, 0.3));\n",
              "      fill: #FFFFFF;\n",
              "    }\n",
              "  </style>\n",
              "\n",
              "      <script>\n",
              "        const buttonEl =\n",
              "          document.querySelector('#df-ee6dfee9-98e9-49fc-a508-bf3577b47943 button.colab-df-convert');\n",
              "        buttonEl.style.display =\n",
              "          google.colab.kernel.accessAllowed ? 'block' : 'none';\n",
              "\n",
              "        async function convertToInteractive(key) {\n",
              "          const element = document.querySelector('#df-ee6dfee9-98e9-49fc-a508-bf3577b47943');\n",
              "          const dataTable =\n",
              "            await google.colab.kernel.invokeFunction('convertToInteractive',\n",
              "                                                     [key], {});\n",
              "          if (!dataTable) return;\n",
              "\n",
              "          const docLinkHtml = 'Like what you see? Visit the ' +\n",
              "            '<a target=\"_blank\" href=https://colab.research.google.com/notebooks/data_table.ipynb>data table notebook</a>'\n",
              "            + ' to learn more about interactive tables.';\n",
              "          element.innerHTML = '';\n",
              "          dataTable['output_type'] = 'display_data';\n",
              "          await google.colab.output.renderOutput(dataTable, element);\n",
              "          const docLink = document.createElement('div');\n",
              "          docLink.innerHTML = docLinkHtml;\n",
              "          element.appendChild(docLink);\n",
              "        }\n",
              "      </script>\n",
              "    </div>\n",
              "  </div>\n",
              "  "
            ]
          },
          "metadata": {},
          "execution_count": 5
        }
      ]
    },
    {
      "cell_type": "code",
      "source": [
        "# label outcomes\n",
        "# 1 : live birth\n",
        "# 2 : iduced abortion\n",
        "# 3 : stillbirth\n",
        "# 4 : misscarriage\n",
        "# 5 : ecotoppic pregnancy\n",
        "# 6 : current pregnancy\n",
        "\n",
        "# berapakah jumlah kelahiran yang normal/selamat\n",
        "nsfg['outcome'].value_counts()"
      ],
      "metadata": {
        "colab": {
          "base_uri": "https://localhost:8080/"
        },
        "id": "PCwLumWT8uXO",
        "outputId": "86ff735c-9ce5-4bd4-81f0-5ac39a8d619a"
      },
      "execution_count": null,
      "outputs": [
        {
          "output_type": "execute_result",
          "data": {
            "text/plain": [
              "1    6489\n",
              "4    1469\n",
              "2     947\n",
              "6     249\n",
              "5     118\n",
              "3      86\n",
              "Name: outcome, dtype: int64"
            ]
          },
          "metadata": {},
          "execution_count": 6
        }
      ]
    },
    {
      "cell_type": "code",
      "source": [
        "oc_all = nsfg['outcome'].count()"
      ],
      "metadata": {
        "id": "lWKL5HT__HNZ"
      },
      "execution_count": null,
      "outputs": []
    },
    {
      "cell_type": "code",
      "source": [
        "oc_lb = nsfg[nsfg['outcome']==1] ['outcome'].count()"
      ],
      "metadata": {
        "id": "hPPeeuMJAeoQ"
      },
      "execution_count": null,
      "outputs": []
    },
    {
      "cell_type": "code",
      "source": [
        "lb_percent = oc_lb/oc_all * 100"
      ],
      "metadata": {
        "id": "qeOUxueEAerv"
      },
      "execution_count": null,
      "outputs": []
    },
    {
      "cell_type": "code",
      "source": [
        "lb_percent"
      ],
      "metadata": {
        "colab": {
          "base_uri": "https://localhost:8080/"
        },
        "id": "GPyLl7FKA2ZH",
        "outputId": "e7da39ee-d39d-46ba-cb48-6dbe8aa0d775"
      },
      "execution_count": null,
      "outputs": [
        {
          "output_type": "execute_result",
          "data": {
            "text/plain": [
              "69.34173968796752"
            ]
          },
          "metadata": {},
          "execution_count": 10
        }
      ]
    },
    {
      "cell_type": "code",
      "source": [
        "# membuat fungsi untuk menghitung presentase outcome berdasarkan label\n",
        "def outcome_percentage(oc) :\n",
        "  oc_all = nsfg['outcome'].count()\n",
        "  oc_lb = nsfg[nsfg['outcome']==oc] ['outcome'].count()\n",
        "  lb_percent = oc_lb/oc_all * 100\n",
        "  return lb_percent"
      ],
      "metadata": {
        "id": "maA7imBuBjeg"
      },
      "execution_count": null,
      "outputs": []
    },
    {
      "cell_type": "code",
      "source": [
        "outcome_percentage(2)"
      ],
      "metadata": {
        "colab": {
          "base_uri": "https://localhost:8080/"
        },
        "id": "Exd0BIjvCgBg",
        "outputId": "8071e5d4-4afb-4913-b605-a79aeae2eebb"
      },
      "execution_count": null,
      "outputs": [
        {
          "output_type": "execute_result",
          "data": {
            "text/plain": [
              "10.119683693096816"
            ]
          },
          "metadata": {},
          "execution_count": 12
        }
      ]
    },
    {
      "cell_type": "code",
      "source": [
        "outcome_percentage(3)"
      ],
      "metadata": {
        "colab": {
          "base_uri": "https://localhost:8080/"
        },
        "id": "CJ8Mv9yVCl-u",
        "outputId": "02c9f040-11b3-40de-99ca-06a7ef8d8ebe"
      },
      "execution_count": null,
      "outputs": [
        {
          "output_type": "execute_result",
          "data": {
            "text/plain": [
              "0.9189997862791195"
            ]
          },
          "metadata": {},
          "execution_count": 13
        }
      ]
    },
    {
      "cell_type": "code",
      "source": [
        "outcome_percentage(4)"
      ],
      "metadata": {
        "colab": {
          "base_uri": "https://localhost:8080/"
        },
        "id": "bIym5kumEE7w",
        "outputId": "a2d24dcc-e368-47c5-9731-105edf47d838"
      },
      "execution_count": null,
      "outputs": [
        {
          "output_type": "execute_result",
          "data": {
            "text/plain": [
              "15.69779867493054"
            ]
          },
          "metadata": {},
          "execution_count": 14
        }
      ]
    },
    {
      "cell_type": "code",
      "source": [
        "# melihat prosentase keseluruhan outcome\n",
        "for i in range (7):\n",
        "  if i>0:\n",
        "    print('outcome label-',i, \"=\" , outcome_percentage(i))"
      ],
      "metadata": {
        "colab": {
          "base_uri": "https://localhost:8080/"
        },
        "id": "dVOLrPv8CgHm",
        "outputId": "bc81b1e5-8949-4c2f-82b3-43e11e7af676"
      },
      "execution_count": null,
      "outputs": [
        {
          "output_type": "stream",
          "name": "stdout",
          "text": [
            "outcome label- 1 = 69.34173968796752\n",
            "outcome label- 2 = 10.119683693096816\n",
            "outcome label- 3 = 0.9189997862791195\n",
            "outcome label- 4 = 15.69779867493054\n",
            "outcome label- 5 = 1.260953195127164\n",
            "outcome label- 6 = 2.660824962598846\n"
          ]
        }
      ]
    },
    {
      "cell_type": "code",
      "source": [
        "# melihat jumlah data pada kolom \"nbrnaliv\"\n",
        "nsfg['nbrnaliv'].value_counts()"
      ],
      "metadata": {
        "colab": {
          "base_uri": "https://localhost:8080/"
        },
        "id": "yhwJ_NOpEpBO",
        "outputId": "e589d8e7-179a-4345-854a-7827536e184d"
      },
      "execution_count": null,
      "outputs": [
        {
          "output_type": "execute_result",
          "data": {
            "text/plain": [
              "1.0    6379\n",
              "2.0     100\n",
              "3.0       5\n",
              "8.0       1\n",
              "Name: nbrnaliv, dtype: int64"
            ]
          },
          "metadata": {},
          "execution_count": 16
        }
      ]
    },
    {
      "cell_type": "code",
      "source": [
        "# clean data nbrnaliv == 8\n",
        "nsfg ['nbrnaliv'].replace([8], np.nan, inplace = True)"
      ],
      "metadata": {
        "id": "YSUOFtnBE-e9"
      },
      "execution_count": null,
      "outputs": []
    },
    {
      "cell_type": "code",
      "source": [
        "nsfg['nbrnaliv'].value_counts()"
      ],
      "metadata": {
        "colab": {
          "base_uri": "https://localhost:8080/"
        },
        "id": "um_L3g5JFTrf",
        "outputId": "b55ffbcc-338c-4d7f-f653-59834d132c85"
      },
      "execution_count": null,
      "outputs": [
        {
          "output_type": "execute_result",
          "data": {
            "text/plain": [
              "1.0    6379\n",
              "2.0     100\n",
              "3.0       5\n",
              "Name: nbrnaliv, dtype: int64"
            ]
          },
          "metadata": {},
          "execution_count": 18
        }
      ]
    },
    {
      "cell_type": "markdown",
      "source": [
        "Usia kehamilan Untuk setiap kehamilan dalam dataset NSFG, variabel 'agecon' mengkodekan usia responden saat awal kehamilan, dan 'agepreg' usia responden pada akhir kehamilan.\n",
        "Kedua variabel dicatat sebagai bilangan bulat dengan dua tempat desimal implisit, sehingga nilai 2575 berarti usia responden adalah 25,75."
      ],
      "metadata": {
        "id": "WRvfQRFtwWKj"
      }
    },
    {
      "cell_type": "markdown",
      "source": [
        "# 1. Buat variabel baru yaitu: agecon dan agepreg. Simpan usia responden pada kedua variabel terebut (sesuai petunjuk diatas)"
      ],
      "metadata": {
        "id": "kUKMIdKbpbXB"
      }
    },
    {
      "cell_type": "code",
      "source": [
        "agecon = nsfg['agecon'] / 100\n",
        "agepreg = nsfg['agepreg'] / 100"
      ],
      "metadata": {
        "id": "91If4bJFopFD"
      },
      "execution_count": null,
      "outputs": []
    },
    {
      "cell_type": "code",
      "source": [
        "# Hasil setelah perhitungan\n",
        "print (agecon)"
      ],
      "metadata": {
        "colab": {
          "base_uri": "https://localhost:8080/"
        },
        "id": "1jW0ePrWpL28",
        "outputId": "89392ff4-c928-49c8-a411-56602d964921"
      },
      "execution_count": null,
      "outputs": [
        {
          "output_type": "stream",
          "name": "stdout",
          "text": [
            "0       20.00\n",
            "1       22.91\n",
            "2       32.41\n",
            "3       36.50\n",
            "4       21.91\n",
            "        ...  \n",
            "9353    17.58\n",
            "9354    17.41\n",
            "9355    20.91\n",
            "9356    34.50\n",
            "9357    36.83\n",
            "Name: agecon, Length: 9358, dtype: float64\n"
          ]
        }
      ]
    },
    {
      "cell_type": "code",
      "source": [
        "print (agepreg)"
      ],
      "metadata": {
        "colab": {
          "base_uri": "https://localhost:8080/"
        },
        "id": "AdICuoRgpnIw",
        "outputId": "2c4248f0-c024-4b91-be00-03c1aa820014"
      },
      "execution_count": null,
      "outputs": [
        {
          "output_type": "stream",
          "name": "stdout",
          "text": [
            "0       20.75\n",
            "1       23.58\n",
            "2       33.08\n",
            "3         NaN\n",
            "4       22.66\n",
            "        ...  \n",
            "9353    18.25\n",
            "9354    18.16\n",
            "9355    21.58\n",
            "9356    35.25\n",
            "9357    37.58\n",
            "Name: agepreg, Length: 9358, dtype: float64\n"
          ]
        }
      ]
    },
    {
      "cell_type": "markdown",
      "source": [
        "# 2. Hitung selisihnya, yang merupakan perkiraan durasi kehamilan. Perlu diingat bahwa untuk setiap kehamilan, agepreg akan lebih besar dari agecon."
      ],
      "metadata": {
        "id": "bdtFZZqWpjzo"
      }
    },
    {
      "cell_type": "code",
      "source": [
        "preg_length = agepreg - agecon"
      ],
      "metadata": {
        "id": "zVf86DwbpxOw"
      },
      "execution_count": null,
      "outputs": []
    },
    {
      "cell_type": "code",
      "source": [
        "# Hasil setelah perhitungan\n",
        "print (preg_length)"
      ],
      "metadata": {
        "colab": {
          "base_uri": "https://localhost:8080/"
        },
        "id": "TB6hXaAopxWF",
        "outputId": "6d4e8788-309a-48fd-9ce3-95c7cfeba1e4"
      },
      "execution_count": null,
      "outputs": [
        {
          "output_type": "stream",
          "name": "stdout",
          "text": [
            "0       0.75\n",
            "1       0.67\n",
            "2       0.67\n",
            "3        NaN\n",
            "4       0.75\n",
            "        ... \n",
            "9353    0.67\n",
            "9354    0.75\n",
            "9355    0.67\n",
            "9356    0.75\n",
            "9357    0.75\n",
            "Length: 9358, dtype: float64\n"
          ]
        }
      ]
    },
    {
      "cell_type": "markdown",
      "source": [
        "# 3. Buat kolom baru di dataframe nsfg dengan nama \"preglength\" sesuai dengan perhitungan selisih pada soal nomer 2"
      ],
      "metadata": {
        "id": "6fVGU7qPqUTl"
      }
    },
    {
      "cell_type": "code",
      "source": [
        "nsfg ['preg_length'] = preg_length\n",
        "nsfg.head()"
      ],
      "metadata": {
        "colab": {
          "base_uri": "https://localhost:8080/",
          "height": 206
        },
        "id": "7NUqGskLqhQR",
        "outputId": "8b2dff8d-8217-43fc-d545-fc237c5f102a"
      },
      "execution_count": null,
      "outputs": [
        {
          "output_type": "execute_result",
          "data": {
            "text/plain": [
              "   caseid  outcome  birthwgt_lb1  birthwgt_oz1  prglngth  nbrnaliv  agecon  \\\n",
              "0   60418        1           5.0           4.0        40       1.0    2000   \n",
              "1   60418        1           4.0          12.0        36       1.0    2291   \n",
              "2   60418        1           5.0           4.0        36       1.0    3241   \n",
              "3   60419        6           NaN           NaN        33       NaN    3650   \n",
              "4   60420        1           8.0          13.0        41       1.0    2191   \n",
              "\n",
              "   agepreg  hpagelb  wgt2013_2015  preg_length  \n",
              "0   2075.0     22.0   3554.964843         0.75  \n",
              "1   2358.0     25.0   3554.964843         0.67  \n",
              "2   3308.0     52.0   3554.964843         0.67  \n",
              "3      NaN      NaN   2484.535358          NaN  \n",
              "4   2266.0     24.0   2903.782914         0.75  "
            ],
            "text/html": [
              "\n",
              "  <div id=\"df-f4fded80-87bf-4300-a8f2-a3289da07c72\">\n",
              "    <div class=\"colab-df-container\">\n",
              "      <div>\n",
              "<style scoped>\n",
              "    .dataframe tbody tr th:only-of-type {\n",
              "        vertical-align: middle;\n",
              "    }\n",
              "\n",
              "    .dataframe tbody tr th {\n",
              "        vertical-align: top;\n",
              "    }\n",
              "\n",
              "    .dataframe thead th {\n",
              "        text-align: right;\n",
              "    }\n",
              "</style>\n",
              "<table border=\"1\" class=\"dataframe\">\n",
              "  <thead>\n",
              "    <tr style=\"text-align: right;\">\n",
              "      <th></th>\n",
              "      <th>caseid</th>\n",
              "      <th>outcome</th>\n",
              "      <th>birthwgt_lb1</th>\n",
              "      <th>birthwgt_oz1</th>\n",
              "      <th>prglngth</th>\n",
              "      <th>nbrnaliv</th>\n",
              "      <th>agecon</th>\n",
              "      <th>agepreg</th>\n",
              "      <th>hpagelb</th>\n",
              "      <th>wgt2013_2015</th>\n",
              "      <th>preg_length</th>\n",
              "    </tr>\n",
              "  </thead>\n",
              "  <tbody>\n",
              "    <tr>\n",
              "      <th>0</th>\n",
              "      <td>60418</td>\n",
              "      <td>1</td>\n",
              "      <td>5.0</td>\n",
              "      <td>4.0</td>\n",
              "      <td>40</td>\n",
              "      <td>1.0</td>\n",
              "      <td>2000</td>\n",
              "      <td>2075.0</td>\n",
              "      <td>22.0</td>\n",
              "      <td>3554.964843</td>\n",
              "      <td>0.75</td>\n",
              "    </tr>\n",
              "    <tr>\n",
              "      <th>1</th>\n",
              "      <td>60418</td>\n",
              "      <td>1</td>\n",
              "      <td>4.0</td>\n",
              "      <td>12.0</td>\n",
              "      <td>36</td>\n",
              "      <td>1.0</td>\n",
              "      <td>2291</td>\n",
              "      <td>2358.0</td>\n",
              "      <td>25.0</td>\n",
              "      <td>3554.964843</td>\n",
              "      <td>0.67</td>\n",
              "    </tr>\n",
              "    <tr>\n",
              "      <th>2</th>\n",
              "      <td>60418</td>\n",
              "      <td>1</td>\n",
              "      <td>5.0</td>\n",
              "      <td>4.0</td>\n",
              "      <td>36</td>\n",
              "      <td>1.0</td>\n",
              "      <td>3241</td>\n",
              "      <td>3308.0</td>\n",
              "      <td>52.0</td>\n",
              "      <td>3554.964843</td>\n",
              "      <td>0.67</td>\n",
              "    </tr>\n",
              "    <tr>\n",
              "      <th>3</th>\n",
              "      <td>60419</td>\n",
              "      <td>6</td>\n",
              "      <td>NaN</td>\n",
              "      <td>NaN</td>\n",
              "      <td>33</td>\n",
              "      <td>NaN</td>\n",
              "      <td>3650</td>\n",
              "      <td>NaN</td>\n",
              "      <td>NaN</td>\n",
              "      <td>2484.535358</td>\n",
              "      <td>NaN</td>\n",
              "    </tr>\n",
              "    <tr>\n",
              "      <th>4</th>\n",
              "      <td>60420</td>\n",
              "      <td>1</td>\n",
              "      <td>8.0</td>\n",
              "      <td>13.0</td>\n",
              "      <td>41</td>\n",
              "      <td>1.0</td>\n",
              "      <td>2191</td>\n",
              "      <td>2266.0</td>\n",
              "      <td>24.0</td>\n",
              "      <td>2903.782914</td>\n",
              "      <td>0.75</td>\n",
              "    </tr>\n",
              "  </tbody>\n",
              "</table>\n",
              "</div>\n",
              "      <button class=\"colab-df-convert\" onclick=\"convertToInteractive('df-f4fded80-87bf-4300-a8f2-a3289da07c72')\"\n",
              "              title=\"Convert this dataframe to an interactive table.\"\n",
              "              style=\"display:none;\">\n",
              "        \n",
              "  <svg xmlns=\"http://www.w3.org/2000/svg\" height=\"24px\"viewBox=\"0 0 24 24\"\n",
              "       width=\"24px\">\n",
              "    <path d=\"M0 0h24v24H0V0z\" fill=\"none\"/>\n",
              "    <path d=\"M18.56 5.44l.94 2.06.94-2.06 2.06-.94-2.06-.94-.94-2.06-.94 2.06-2.06.94zm-11 1L8.5 8.5l.94-2.06 2.06-.94-2.06-.94L8.5 2.5l-.94 2.06-2.06.94zm10 10l.94 2.06.94-2.06 2.06-.94-2.06-.94-.94-2.06-.94 2.06-2.06.94z\"/><path d=\"M17.41 7.96l-1.37-1.37c-.4-.4-.92-.59-1.43-.59-.52 0-1.04.2-1.43.59L10.3 9.45l-7.72 7.72c-.78.78-.78 2.05 0 2.83L4 21.41c.39.39.9.59 1.41.59.51 0 1.02-.2 1.41-.59l7.78-7.78 2.81-2.81c.8-.78.8-2.07 0-2.86zM5.41 20L4 18.59l7.72-7.72 1.47 1.35L5.41 20z\"/>\n",
              "  </svg>\n",
              "      </button>\n",
              "      \n",
              "  <style>\n",
              "    .colab-df-container {\n",
              "      display:flex;\n",
              "      flex-wrap:wrap;\n",
              "      gap: 12px;\n",
              "    }\n",
              "\n",
              "    .colab-df-convert {\n",
              "      background-color: #E8F0FE;\n",
              "      border: none;\n",
              "      border-radius: 50%;\n",
              "      cursor: pointer;\n",
              "      display: none;\n",
              "      fill: #1967D2;\n",
              "      height: 32px;\n",
              "      padding: 0 0 0 0;\n",
              "      width: 32px;\n",
              "    }\n",
              "\n",
              "    .colab-df-convert:hover {\n",
              "      background-color: #E2EBFA;\n",
              "      box-shadow: 0px 1px 2px rgba(60, 64, 67, 0.3), 0px 1px 3px 1px rgba(60, 64, 67, 0.15);\n",
              "      fill: #174EA6;\n",
              "    }\n",
              "\n",
              "    [theme=dark] .colab-df-convert {\n",
              "      background-color: #3B4455;\n",
              "      fill: #D2E3FC;\n",
              "    }\n",
              "\n",
              "    [theme=dark] .colab-df-convert:hover {\n",
              "      background-color: #434B5C;\n",
              "      box-shadow: 0px 1px 3px 1px rgba(0, 0, 0, 0.15);\n",
              "      filter: drop-shadow(0px 1px 2px rgba(0, 0, 0, 0.3));\n",
              "      fill: #FFFFFF;\n",
              "    }\n",
              "  </style>\n",
              "\n",
              "      <script>\n",
              "        const buttonEl =\n",
              "          document.querySelector('#df-f4fded80-87bf-4300-a8f2-a3289da07c72 button.colab-df-convert');\n",
              "        buttonEl.style.display =\n",
              "          google.colab.kernel.accessAllowed ? 'block' : 'none';\n",
              "\n",
              "        async function convertToInteractive(key) {\n",
              "          const element = document.querySelector('#df-f4fded80-87bf-4300-a8f2-a3289da07c72');\n",
              "          const dataTable =\n",
              "            await google.colab.kernel.invokeFunction('convertToInteractive',\n",
              "                                                     [key], {});\n",
              "          if (!dataTable) return;\n",
              "\n",
              "          const docLinkHtml = 'Like what you see? Visit the ' +\n",
              "            '<a target=\"_blank\" href=https://colab.research.google.com/notebooks/data_table.ipynb>data table notebook</a>'\n",
              "            + ' to learn more about interactive tables.';\n",
              "          element.innerHTML = '';\n",
              "          dataTable['output_type'] = 'display_data';\n",
              "          await google.colab.output.renderOutput(dataTable, element);\n",
              "          const docLink = document.createElement('div');\n",
              "          docLink.innerHTML = docLinkHtml;\n",
              "          element.appendChild(docLink);\n",
              "        }\n",
              "      </script>\n",
              "    </div>\n",
              "  </div>\n",
              "  "
            ]
          },
          "metadata": {},
          "execution_count": 58
        }
      ]
    },
    {
      "cell_type": "markdown",
      "source": [
        "# 4. Buatlah grafik untuk menampilkan 2 variabel, yaitu jumlah kehamilan dan agecon. Gunakan bins = 20 untuk mempermudah pengelompokan."
      ],
      "metadata": {
        "id": "16zEjKtdrSNM"
      }
    },
    {
      "cell_type": "code",
      "source": [
        "plt.hist(agecon, bins=20)\n",
        "# Label sumbu\n",
        "plt.xlabel(\"Age at conception\")\n",
        "plt.ylabel('Number of pregnancies')\n",
        "plt.show()"
      ],
      "metadata": {
        "colab": {
          "base_uri": "https://localhost:8080/",
          "height": 279
        },
        "id": "_uPnBavktHow",
        "outputId": "bbea78fe-863d-4243-bebe-acd294c04f12"
      },
      "execution_count": null,
      "outputs": [
        {
          "output_type": "display_data",
          "data": {
            "text/plain": [
              "<Figure size 432x288 with 1 Axes>"
            ],
            "image/png": "[encoded data removed]"
          },
          "metadata": {
            "needs_background": "light"
          }
        }
      ]
    },
    {
      "cell_type": "code",
      "source": [
        "plt.hist(agecon, bins=20, histtype = 'step')\n",
        "plt.xlabel(\"Age at conception\")\n",
        "plt.ylabel('Number of pregnancies')\n",
        "plt.show()"
      ],
      "metadata": {
        "colab": {
          "base_uri": "https://localhost:8080/",
          "height": 279
        },
        "id": "4vayMat_yfFQ",
        "outputId": "ffc51225-29a1-4207-82e7-7dfaa5bb8ff1"
      },
      "execution_count": null,
      "outputs": [
        {
          "output_type": "display_data",
          "data": {
            "text/plain": [
              "<Figure size 432x288 with 1 Axes>"
            ],
            "image/png": "[encoded data removed]"
          },
          "metadata": {
            "needs_background": "light"
          }
        }
      ]
    },
    {
      "cell_type": "markdown",
      "source": [
        "# 5. Hitung jumlah kehamilan dengan rule:\n",
        "#            1. Jumlah bayi = 1\n",
        "#            2. Lama kehamilan lebih dari atau 37 minggu"
      ],
      "metadata": {
        "id": "JJIRKCuSwBNC"
      }
    },
    {
      "cell_type": "code",
      "source": [
        "# Buat series untuk informasi kehamilan >= 37\n",
        "full_term = nsfg ['prglngth'] >= 37\n",
        "print (full_term)"
      ],
      "metadata": {
        "id": "a9TcjEDQtmps",
        "colab": {
          "base_uri": "https://localhost:8080/"
        },
        "outputId": "ae8c542a-dee8-488e-d56d-239c563d88cf"
      },
      "execution_count": null,
      "outputs": [
        {
          "output_type": "stream",
          "name": "stdout",
          "text": [
            "0        True\n",
            "1       False\n",
            "2       False\n",
            "3       False\n",
            "4        True\n",
            "        ...  \n",
            "9353    False\n",
            "9354     True\n",
            "9355    False\n",
            "9356     True\n",
            "9357     True\n",
            "Name: prglngth, Length: 9358, dtype: bool\n"
          ]
        }
      ]
    },
    {
      "cell_type": "code",
      "source": [
        "# Buat series untuk jumlah bayi =1\n",
        "# Perhatikan! kolom jumlah bayi sudah dibahas pada kode diatas\n",
        "single = nsfg ['nbrnaliv'] == 1\n",
        "print (single)"
      ],
      "metadata": {
        "id": "RdvBIqYtuCJq",
        "colab": {
          "base_uri": "https://localhost:8080/"
        },
        "outputId": "11a9a0c8-a15d-4b73-f767-c8dfcbb944c9"
      },
      "execution_count": null,
      "outputs": [
        {
          "output_type": "stream",
          "name": "stdout",
          "text": [
            "0        True\n",
            "1        True\n",
            "2        True\n",
            "3       False\n",
            "4        True\n",
            "        ...  \n",
            "9353     True\n",
            "9354     True\n",
            "9355     True\n",
            "9356     True\n",
            "9357     True\n",
            "Name: nbrnaliv, Length: 9358, dtype: bool\n"
          ]
        }
      ]
    },
    {
      "cell_type": "code",
      "source": [
        "from numpy.ma.core import count\n",
        "# Filter bayi single dg kelahiran normal (lahir hidup)\n",
        "single_full_term = nsfg [full_term & single]['outcome']. count()\n",
        "print('single full term : ' , single_full_term)"
      ],
      "metadata": {
        "id": "vm4ffF8bu-Uo",
        "colab": {
          "base_uri": "https://localhost:8080/"
        },
        "outputId": "a873ef00-40d5-4142-84b5-dd1ed5ee7c72"
      },
      "execution_count": null,
      "outputs": [
        {
          "output_type": "stream",
          "name": "stdout",
          "text": [
            "single full term :  5529\n"
          ]
        }
      ]
    }
  ]
}